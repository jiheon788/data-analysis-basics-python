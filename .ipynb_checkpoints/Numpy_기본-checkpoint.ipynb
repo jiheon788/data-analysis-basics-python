{
 "cells": [
  {
   "cell_type": "markdown",
   "id": "62a793e2-6008-4ddc-bf41-eac49bc48a44",
   "metadata": {},
   "source": [
    "# Numpy 기본"
   ]
  },
  {
   "cell_type": "code",
   "execution_count": 21,
   "id": "e13b13a2-78af-4798-bc74-a87258aa85dc",
   "metadata": {},
   "outputs": [],
   "source": [
    "import numpy as np"
   ]
  },
  {
   "cell_type": "markdown",
   "id": "19abd415-081a-4e0d-a9a1-eaaa26cfb390",
   "metadata": {},
   "source": [
    "## 1. array 만들기\n",
    "### 1.1. 1차원 array"
   ]
  },
  {
   "cell_type": "code",
   "execution_count": 6,
   "id": "e0b17cc1-407e-4345-96a1-3ac6a04681e7",
   "metadata": {},
   "outputs": [
    {
     "data": {
      "text/plain": [
       "array([ 2,  3,  4,  6,  7,  8,  9, 10])"
      ]
     },
     "execution_count": 6,
     "metadata": {},
     "output_type": "execute_result"
    }
   ],
   "source": [
    "array1 = np.array([2,3,4,6,7,8,9,10])\n",
    "\n",
    "array1"
   ]
  },
  {
   "cell_type": "code",
   "execution_count": 7,
   "id": "bd81a9a0-4e42-4f37-b8d6-a028cde2ea13",
   "metadata": {},
   "outputs": [
    {
     "name": "stdout",
     "output_type": "stream",
     "text": [
      "<class 'numpy.ndarray'>\n",
      "(8,)\n",
      "8\n"
     ]
    }
   ],
   "source": [
    "print(type(array1)) # 타입\n",
    "print(array1.shape) #몇행,몇열\n",
    "print(array1.size) #몇개의 요소"
   ]
  },
  {
   "cell_type": "markdown",
   "id": "e24aec10-3c3c-4ba5-81eb-6ea9fdb71921",
   "metadata": {},
   "source": [
    "### 1.2. 2차원 array"
   ]
  },
  {
   "cell_type": "code",
   "execution_count": 8,
   "id": "041eceee-6340-402b-a786-0e7625a6a576",
   "metadata": {},
   "outputs": [
    {
     "data": {
      "text/plain": [
       "array([[ 1,  2,  3,  4],\n",
       "       [ 5,  6,  7,  8],\n",
       "       [ 9, 10, 11, 12]])"
      ]
     },
     "execution_count": 8,
     "metadata": {},
     "output_type": "execute_result"
    }
   ],
   "source": [
    "array2 = np.array([[1,2,3,4],\n",
    "                  [5,6,7,8],\n",
    "                  [9,10,11,12]])\n",
    "\n",
    "array2"
   ]
  },
  {
   "cell_type": "code",
   "execution_count": 10,
   "id": "6c205f9e-93c5-4d14-a425-b79522546857",
   "metadata": {},
   "outputs": [
    {
     "name": "stdout",
     "output_type": "stream",
     "text": [
      "(3, 4)\n",
      "12\n"
     ]
    }
   ],
   "source": [
    "print(array2.shape)\n",
    "print(array2.size)"
   ]
  },
  {
   "cell_type": "code",
   "execution_count": 13,
   "id": "f20c8913-fcb9-4532-aeaf-1b12345e8975",
   "metadata": {},
   "outputs": [
    {
     "name": "stdout",
     "output_type": "stream",
     "text": [
      "2\n",
      "[3 6 7]\n"
     ]
    }
   ],
   "source": [
    "#인덱스\n",
    "print(array1[0])\n",
    "print(array1[[1,3,4]])"
   ]
  },
  {
   "cell_type": "markdown",
   "id": "e678ce8c-4bbc-456c-9491-9b3eb5666d76",
   "metadata": {},
   "source": [
    "### 1.3. 그 외 방법들"
   ]
  },
  {
   "cell_type": "code",
   "execution_count": 11,
   "id": "44a45a59",
   "metadata": {},
   "outputs": [
    {
     "data": {
      "text/plain": [
       "array([7, 7, 7, 7, 7, 7])"
      ]
     },
     "execution_count": 11,
     "metadata": {},
     "output_type": "execute_result"
    }
   ],
   "source": [
    "array = np.full(6,7) #6개의 7\n",
    "array"
   ]
  },
  {
   "cell_type": "code",
   "execution_count": 5,
   "id": "ac0ba260",
   "metadata": {},
   "outputs": [
    {
     "name": "stdout",
     "output_type": "stream",
     "text": [
      "[0 0 0 0 0 0]\n",
      "[0 0 0 0 0 0]\n",
      "[1 1 1 1 1 1]\n"
     ]
    }
   ],
   "source": [
    "array1 = np.full(6,0)\n",
    "array2 = np.zeros(6, dtype=int)\n",
    "array3 = np.ones(6, dtype=int)\n",
    "print(array1)\n",
    "print(array2)\n",
    "print(array3)"
   ]
  },
  {
   "cell_type": "code",
   "execution_count": 14,
   "id": "0bd24c25",
   "metadata": {},
   "outputs": [
    {
     "name": "stdout",
     "output_type": "stream",
     "text": [
      "[0.42226427 0.06120123 0.00445698 0.66513366 0.7015137  0.65325344]\n",
      "[2 2 4 1 3]\n"
     ]
    }
   ],
   "source": [
    "array1 = np.random.random(6)\n",
    "print(array1)\n",
    "array2 = np.random.randint(1,6,size=5) # 1 ~ 6-1, 사이즈=5\n",
    "print(array2)"
   ]
  },
  {
   "cell_type": "code",
   "execution_count": 13,
   "id": "11c95418",
   "metadata": {},
   "outputs": [
    {
     "name": "stdout",
     "output_type": "stream",
     "text": [
      "[0 1 2 3 4 5]\n",
      "[2 3 4 5 6]\n",
      "[ 3  6  9 12 15]\n"
     ]
    }
   ],
   "source": [
    "array1 = np.arange(6) # 0 ~ 6\n",
    "array2 = np.arange(2,7) # 2 ~ 7-1\n",
    "array3 = np.arange(3,17,3) # 3 ~ 17-1, 간격3\n",
    "print(array1)\n",
    "print(array2)\n",
    "print(array3)"
   ]
  },
  {
   "cell_type": "markdown",
   "id": "649b0fc8-0d62-4f82-a489-db975a0694f5",
   "metadata": {},
   "source": [
    "## 2. numpy 활용\n",
    "### 2.1. 불린 연산"
   ]
  },
  {
   "cell_type": "code",
   "execution_count": 15,
   "id": "c00d3ade",
   "metadata": {},
   "outputs": [],
   "source": [
    "array1 = np.array([1,2,3,4,5,6,7,8,9,10])"
   ]
  },
  {
   "cell_type": "code",
   "execution_count": 16,
   "id": "c3ae7dc6",
   "metadata": {},
   "outputs": [
    {
     "data": {
      "text/plain": [
       "array([False, False, False, False,  True,  True,  True,  True,  True,\n",
       "        True])"
      ]
     },
     "execution_count": 16,
     "metadata": {},
     "output_type": "execute_result"
    }
   ],
   "source": [
    "array1 > 4"
   ]
  },
  {
   "cell_type": "code",
   "execution_count": 17,
   "id": "583f6615",
   "metadata": {},
   "outputs": [
    {
     "data": {
      "text/plain": [
       "array([False,  True, False,  True, False,  True, False,  True, False,\n",
       "        True])"
      ]
     },
     "execution_count": 17,
     "metadata": {},
     "output_type": "execute_result"
    }
   ],
   "source": [
    "array1 % 2 == 0"
   ]
  },
  {
   "cell_type": "code",
   "execution_count": 18,
   "id": "c9fc20b1",
   "metadata": {},
   "outputs": [
    {
     "data": {
      "text/plain": [
       "(array([4, 5, 6, 7, 8, 9], dtype=int64),)"
      ]
     },
     "execution_count": 18,
     "metadata": {},
     "output_type": "execute_result"
    }
   ],
   "source": [
    "bool = np.array([False, False, False, False,  True,  True,  True,  True,  True, True])\n",
    "np.where(bool) # True가 담긴 index만 뽑음"
   ]
  },
  {
   "cell_type": "code",
   "execution_count": 19,
   "id": "dc37e1d1",
   "metadata": {},
   "outputs": [
    {
     "data": {
      "text/plain": [
       "(array([4, 5, 6, 7, 8, 9], dtype=int64),)"
      ]
     },
     "execution_count": 19,
     "metadata": {},
     "output_type": "execute_result"
    }
   ],
   "source": [
    "filter = np.where(array1 > 4) #요소가 4초과인 인덱스 추출\n",
    "filter"
   ]
  },
  {
   "cell_type": "code",
   "execution_count": 20,
   "id": "93a7cca5",
   "metadata": {},
   "outputs": [
    {
     "data": {
      "text/plain": [
       "array([ 5,  6,  7,  8,  9, 10])"
      ]
     },
     "execution_count": 20,
     "metadata": {},
     "output_type": "execute_result"
    }
   ],
   "source": [
    "array1[filter] #추출한 인덱스로 4초과인 요소들을 추출"
   ]
  },
  {
   "cell_type": "markdown",
   "id": "2114ac96-7e58-4864-88f3-fa26957db9bb",
   "metadata": {},
   "source": [
    "### 2.2. numpy 기본통계"
   ]
  },
  {
   "cell_type": "code",
   "execution_count": 44,
   "id": "eeca59db",
   "metadata": {},
   "outputs": [
    {
     "name": "stdout",
     "output_type": "stream",
     "text": [
      "10\n",
      "1\n",
      "5.5\n",
      "5.5\n",
      "2.8722813232690143\n",
      "8.25\n"
     ]
    }
   ],
   "source": [
    "print(array1.max())\n",
    "print(array1.min())\n",
    "print(array1.mean())\n",
    "print(np.median(array1))\n",
    "print(array1.std())\n",
    "print(array1.var())"
   ]
  },
  {
   "cell_type": "code",
   "execution_count": null,
   "id": "fef08b34",
   "metadata": {},
   "outputs": [],
   "source": []
  }
 ],
 "metadata": {
  "kernelspec": {
   "display_name": "Python 3",
   "language": "python",
   "name": "python3"
  },
  "language_info": {
   "codemirror_mode": {
    "name": "ipython",
    "version": 3
   },
   "file_extension": ".py",
   "mimetype": "text/x-python",
   "name": "python",
   "nbconvert_exporter": "python",
   "pygments_lexer": "ipython3",
   "version": "3.8.8"
  }
 },
 "nbformat": 4,
 "nbformat_minor": 5
}
