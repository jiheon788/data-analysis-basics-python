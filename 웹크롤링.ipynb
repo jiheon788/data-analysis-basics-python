{
 "cells": [
  {
   "cell_type": "markdown",
   "id": "87ba7078-019c-4a90-a588-a238eaf8777e",
   "metadata": {},
   "source": [
    "# 웹 크롤링"
   ]
  },
  {
   "cell_type": "code",
   "execution_count": 1,
   "id": "4ecd7d2c-6c1e-4ad5-9fcb-a726864f5054",
   "metadata": {},
   "outputs": [],
   "source": [
    "import time\n",
    "import requests\n",
    "from bs4 import BeautifulSoup"
   ]
  },
  {
   "cell_type": "markdown",
   "id": "d2f8f716-2227-4890-95ef-b3d07837d622",
   "metadata": {},
   "source": [
    "# 1. 페이지 가져오기"
   ]
  },
  {
   "cell_type": "code",
   "execution_count": 8,
   "id": "02711df6-8576-4fdc-bb5c-ab1efc8c999f",
   "metadata": {},
   "outputs": [
    {
     "data": {
      "text/plain": [
       "<Response [200]>"
      ]
     },
     "execution_count": 8,
     "metadata": {},
     "output_type": "execute_result"
    }
   ],
   "source": [
    "response = requests.get('https://workey.codeit.kr/ratings/index?year=2010&month=1&weekIndex=1')\n",
    "response"
   ]
  },
  {
   "cell_type": "code",
   "execution_count": 9,
   "id": "eb28cc16-2838-4fbd-bdc5-aa0ce8859bc4",
   "metadata": {
    "tags": []
   },
   "outputs": [],
   "source": [
    "rating_pages = response.text"
   ]
  },
  {
   "cell_type": "code",
   "execution_count": 10,
   "id": "e3997ddc-1177-4e9c-a0df-579454bcf103",
   "metadata": {},
   "outputs": [
    {
     "name": "stdout",
     "output_type": "stream",
     "text": [
      "<!DOCTYPE html>\n",
      "<html lang=\"ko\">\n",
      "<head>\n",
      "  <title>티비랭킹닷컴</title>\n",
      "  <meta charset=\"utf-8\">\n",
      "  <link href=\"https://fonts.googleapis.com/css?family=Noto+Sans+KR\" rel=\"stylesheet\">\n",
      "  <style>\n",
      "    /* body start */\n",
      "    body {\n",
      "      font-family: 'Noto Sans KR', sans-serif;\n",
      "      margin: 0;\n",
      "    }\n",
      "\n",
      "    /* navigation bar start */\n",
      "    .nav-bar {\n",
      "      position: fixed;\n",
      "      width: 100%;\n",
      "      padding-top: 10px;\n",
      "      padding-bottom: 10px;\n",
      "      background-color: #ffffff;\n",
      "      box-shadow: 0 2px 4px 0 rgba(0, 0, 0, 0.14);\n",
      "      z-index: 1;\n",
      "    }\n",
      "\n",
      "    .nav-bar #tv-image {\n",
      "      margin-left: 78px;\n",
      "      margin-right: 15px;\n",
      "      height: 36px;\n",
      "      vertical-align: middle;\n",
      "    }\n",
      "\n",
      "    .nav-bar span {\n",
      "      font-weight: bold;\n",
      "      color: #4a4a4a;\n",
      "    }\n",
      "\n",
      "    /* date picker start */\n",
      "    .date-pick {\n",
      "      padding-top: 56px;\n",
      "      height: 200px;\n",
      "      background-color: #efefef;\n",
      "      margin-left: auto;\n",
      "      margin-right: auto;\n",
      "      position: relative;\n",
      "    }\n",
      "\n",
      "    .date-pick .search-box {\n",
      "      text-align: center;\n",
      "      position: absolute;\n",
      "      display: block;\n",
      "      left: 50%;\n",
      "      transform: translateX(-50%);\n",
      "    }\n",
      "\n",
      "    .date-pick .search-box p {\n",
      "      text-align: left;\n",
      "    }\n",
      "\n",
      "    .date-pick .search-box select {\n",
      "      padding: 4px;\n",
      "    }\n",
      "\n",
      "    .date-pick .search-box .search-btn {\n",
      "      display: inline-block;\n",
      "      margin-left: 20px;\n",
      "      padding: 3px 28px 4px 28px;\n",
      "      border-radius: 4px;\n",
      "      background-color: #00a9dc;\n",
      "      font-weight: 300;\n",
      "      font-size: 13.333px;\n",
      "      height: 27px;\n",
      "      box-sizing: border-box;\n",
      "      color: #ffffff;\n",
      "    }\n",
      "\n",
      "    /* main body start */\n",
      "\n",
      "    .container {\n",
      "      margin-left: auto;\n",
      "      margin-right: auto;\n",
      "    }\n",
      "\n",
      "    .row.top-table {\n",
      "      background-color: #00a9dc;\n",
      "      color: #ffffff;\n",
      "      padding-top: 20px;\n",
      "      padding-bottom: 20px;\n",
      "    }\n",
      "\n",
      "    table {\n",
      "      border-collapse: collapse;\n",
      "      border-spacing: 2px;\n",
      "      font-size: 16px;\n",
      "    }\n",
      "\n",
      "    td, th {\n",
      "      display: table-cell;\n",
      "      color: #4a4a4a;\n",
      "    }\n",
      "\n",
      "    .row .rank {\n",
      "      padding-left: 25px;\n",
      "    }\n",
      "\n",
      "    .row .channel {\n",
      "      padding-left: 58px;\n",
      "    }\n",
      "\n",
      "    .row .program {\n",
      "      padding-left: 41px;\n",
      "    }\n",
      "\n",
      "    .row .percent {\n",
      "      color: #00a9dc;\n",
      "      padding-left: 100px;\n",
      "    }\n",
      "\n",
      "    .top-table.row * {\n",
      "      color: #ffffff;\n",
      "      font-weight: 300;\n",
      "    }\n",
      "\n",
      "    .top-table.row .rank {\n",
      "      padding-left: 17px;\n",
      "      padding-right: 17px;\n",
      "    }\n",
      "\n",
      "    .top-table.row .channel {\n",
      "      padding-right: 58px;\n",
      "    }\n",
      "\n",
      "    .top-table.row .program {\n",
      "      padding-right: 41px;\n",
      "    }\n",
      "\n",
      "    .top-table.row .percent {\n",
      "      padding-right: 28px;\n",
      "    }\n",
      "\n",
      "    .header-row {\n",
      "      min-width: 391px;\n",
      "      display: inline-block;\n",
      "      text-align: center;\n",
      "    }\n",
      "  </style>\n",
      "</head>\n",
      "<body>\n",
      "<script src=\"https://code.jquery.com/jquery-3.2.1.min.js\"\n",
      "        integrity=\"sha256-hwg4gsxgFZhOsEEamdOYGBf13FyQuiTwlAQgxVSNgt4=\"\n",
      "        crossorigin=\"anonymous\">\n",
      "</script>\n",
      "\n",
      "<!-- NAVIGATION BAR -->\n",
      "<div class=\"nav-bar\">\n",
      "  <img src=\"/images/nielsen/group.png\" id='tv-image'>\n",
      "  <span>TV Ranking.com</span>\n",
      "</div>\n",
      "<!-- DATE PICKER -->\n",
      "<div class='date-pick'>\n",
      "  <div style=\"height:55px;\"></div>\n",
      "  <div class='search-box'>\n",
      "    <p style=\"font-size: 16px;color:#4a4a4a;margin-bottom: 4px;\">날짜 검색</p>\n",
      "    <section class=\"header-row\">\n",
      "      <select name=\"year\" style=\"padding-right: 32px\" class=\"getYear\">\n",
      "        <option selected=\"selected\">2010</option>\n",
      "        <option>2011</option>\n",
      "        <option>2012</option>\n",
      "        <option>2013</option>\n",
      "        <option>2014</option>\n",
      "        <option>2015</option>\n",
      "        <option>2016</option>\n",
      "        <option>2017</option>\n",
      "        <option>2018</option>\n",
      "      </select>\n",
      "      <select class=\"getMonth\" name=\"month\" style=\"padding-right: 32px\">\n",
      "        <option selected=\"selected\">1</option>\n",
      "        <option>2</option>\n",
      "        <option>3</option>\n",
      "        <option>4</option>\n",
      "        <option>5</option>\n",
      "        <option>6</option>\n",
      "        <option>7</option>\n",
      "        <option>8</option>\n",
      "        <option>9</option>\n",
      "        <option>10</option>\n",
      "        <option>11</option>\n",
      "        <option>12</option>\n",
      "      </select>\n",
      "      <select id=\"weekSelectBox\">\n",
      "        <option value=\"0\">2009.12.28 ~ 2010.01.03</option>\n",
      "        <option value=\"1\" selected=\"selected\">2010.01.04 ~ 2010.01.10</option>\n",
      "        <option value=\"2\">2010.01.11 ~ 2010.01.17</option>\n",
      "        <option value=\"3\">2010.01.18 ~ 2010.01.24</option>\n",
      "        <option value=\"4\">2010.01.25 ~ 2010.01.31</option>\n",
      "      </select>\n",
      "      <div class=\"search-btn\">\n",
      "        search\n",
      "      </div>\n",
      "    </section>\n",
      "  </div>\n",
      "</div>\n",
      "\n",
      "<!-- MAIN BODY -->\n",
      "<div class=\"container\">\n",
      "  <div class=\"box\">\n",
      "    <p style=\"font-size:18px;color:#4a4a4a;text-align: center;margin-top:60px; margin-bottom:15px;\">가구시청률 TOP 10</p>\n",
      "    <p style=\"font-size:14px;color:#9b9b9b;text-align: center;margin-bottom:25px\">(분석기준: National, 유료플랫폼 가입 기구,\n",
      "      단위:%)</p>\n",
      "    <table style=\"margin-left: auto;margin-right: auto;\" cellpadding=\"7\">\n",
      "      <tr height=\"64\" class=\"top-table row\">\n",
      "        <th class=\"rank\">순위</th>\n",
      "        <th class=\"channel\">채널</th>\n",
      "        <th class=\"program\">프로그램</th>\n",
      "        <th class=\"percent\">시청률</th>\n",
      "      </tr>\n",
      "      <tr class=\"row\">\n",
      "        <td class=\"rank\">1</td>\n",
      "        <td class=\"channel\">KBS1</td>\n",
      "        <td class=\"program\">일일연속극(다함께차차차)</td>\n",
      "        <td class=\"percent\">35.1</td>\n",
      "      </tr>\n",
      "      <tr class=\"row\">\n",
      "        <td class=\"rank\">2</td>\n",
      "        <td class=\"channel\">KBS2</td>\n",
      "        <td class=\"program\">주말연속극(수상한삼형제)</td>\n",
      "        <td class=\"percent\">33.5</td>\n",
      "      </tr>\n",
      "      <tr class=\"row\">\n",
      "        <td class=\"rank\">3</td>\n",
      "        <td class=\"channel\">KBS2</td>\n",
      "        <td class=\"program\">해피선데이</td>\n",
      "        <td class=\"percent\">25.4</td>\n",
      "      </tr>\n",
      "      <tr class=\"row\">\n",
      "        <td class=\"rank\">4</td>\n",
      "        <td class=\"channel\">MBC</td>\n",
      "        <td class=\"program\">일일시트콤(지붕뚫고하이킥)</td>\n",
      "        <td class=\"percent\">23.8</td>\n",
      "      </tr>\n",
      "      <tr class=\"row\">\n",
      "        <td class=\"rank\">5</td>\n",
      "        <td class=\"channel\">SBS</td>\n",
      "        <td class=\"program\">주말극장(천만번사랑해)</td>\n",
      "        <td class=\"percent\">23.4</td>\n",
      "      </tr>\n",
      "      <tr class=\"row\">\n",
      "        <td class=\"rank\">6</td>\n",
      "        <td class=\"channel\">MBC</td>\n",
      "        <td class=\"program\">세바퀴</td>\n",
      "        <td class=\"percent\">21.5</td>\n",
      "      </tr>\n",
      "      <tr class=\"row\">\n",
      "        <td class=\"rank\">7</td>\n",
      "        <td class=\"channel\">MBC</td>\n",
      "        <td class=\"program\">특집다큐(아마존의눈물1부)</td>\n",
      "        <td class=\"percent\">21.5</td>\n",
      "      </tr>\n",
      "      <tr class=\"row\">\n",
      "        <td class=\"rank\">8</td>\n",
      "        <td class=\"channel\">MBC</td>\n",
      "        <td class=\"program\">주말기획드라마(보석비빔밥)</td>\n",
      "        <td class=\"percent\">21.1</td>\n",
      "      </tr>\n",
      "      <tr class=\"row\">\n",
      "        <td class=\"rank\">9</td>\n",
      "        <td class=\"channel\">KBS2</td>\n",
      "        <td class=\"program\">특별기획드라마(추노)</td>\n",
      "        <td class=\"percent\">21.1</td>\n",
      "      </tr>\n",
      "      <tr class=\"row\">\n",
      "        <td class=\"rank\">10</td>\n",
      "        <td class=\"channel\">KBS1</td>\n",
      "        <td class=\"program\">KBS9시뉴스</td>\n",
      "        <td class=\"percent\">20.3</td>\n",
      "      </tr>\n",
      "    </table>\n",
      "  </div>\n",
      "</div>\n",
      "<script>\n",
      "  $(\".getMonth, .getYear\").on(\"change\", function () {\n",
      "    window.location.assign(\"/ratings/index?year=\" + $(\".getYear\").val() + \"&month=\" + $(\".getMonth\").val() + \"&weekIndex=0\");\n",
      "\n",
      "  });\n",
      "  $(\".search-btn\").on(\"click\", function () {\n",
      "    var index = $(\"#weekSelectBox\").val();\n",
      "    window.location.assign(\"/ratings/index?year=\" + $(\".getYear\").val() + \"&month=\" + $(\".getMonth\").val() + \"&weekIndex=\" + index);\n",
      "  });\n",
      "</script>\n",
      "</body>\n",
      "</html>\n",
      "\n"
     ]
    }
   ],
   "source": [
    "print(rating_pages)"
   ]
  },
  {
   "cell_type": "markdown",
   "id": "336c33e0-b6d3-4151-ae9b-923a9eb78c1f",
   "metadata": {},
   "source": [
    "# 2. 파싱\n",
    "* 파싱: 문자의 구조를 분석, 원하는 정보 추출"
   ]
  },
  {
   "cell_type": "code",
   "execution_count": 46,
   "id": "5d509889-a0c9-4f20-ba48-2e5e0c2dbd5a",
   "metadata": {},
   "outputs": [],
   "source": [
    "html_code = \"\"\"\n",
    "<!DOCTYPE html>\n",
    "<html>\n",
    "<head>\n",
    "    <title>Sample Website</title>\n",
    "</head>\n",
    "<body>\n",
    "<h2>HTML 연습!</h2>\n",
    "\n",
    "<p>이것은 첫 번째 문단입니다.</p>\n",
    "<p>이것은 두 번째 문단입니다!</p>\n",
    "\n",
    "<ul>\n",
    "    <li>커피</li>\n",
    "    <li>녹차</li>\n",
    "    <li>우유</li>\n",
    "</ul>\n",
    "\n",
    "<img src='https://i.imgur.com/bY0l0PC.jpg' alt=\"coffee\"/>\n",
    "<img src='https://i.imgur.com/fvJLWdV.jpg' alt=\"green-tea\"/>\n",
    "<img src='https://i.imgur.com/rNOIbNt.jpg' alt=\"milk\"/>\n",
    "\n",
    "</body>\n",
    "</html>\n",
    "\"\"\""
   ]
  },
  {
   "cell_type": "code",
   "execution_count": 47,
   "id": "edf37198-49a2-45a0-b8a7-b5d9e3f4fe7e",
   "metadata": {},
   "outputs": [
    {
     "data": {
      "text/plain": [
       "bs4.BeautifulSoup"
      ]
     },
     "execution_count": 47,
     "metadata": {},
     "output_type": "execute_result"
    }
   ],
   "source": [
    "# bs타입으로 변환\n",
    "soup = BeautifulSoup(html_code, 'html.parser')\n",
    "type(soup)"
   ]
  },
  {
   "cell_type": "code",
   "execution_count": 48,
   "id": "f239dece-a1fd-4011-a794-0111bde181f9",
   "metadata": {},
   "outputs": [
    {
     "name": "stdout",
     "output_type": "stream",
     "text": [
      "[<li>커피</li>, <li>녹차</li>, <li>우유</li>]\n"
     ]
    }
   ],
   "source": [
    "li_tags = soup.select('li') # 모든 li 태그 가져오기\n",
    "print(li_tags)"
   ]
  },
  {
   "cell_type": "code",
   "execution_count": 49,
   "id": "52f78f1e-17a1-461c-bc84-cc9669829a9d",
   "metadata": {},
   "outputs": [
    {
     "data": {
      "text/plain": [
       "<li>커피</li>"
      ]
     },
     "execution_count": 49,
     "metadata": {},
     "output_type": "execute_result"
    }
   ],
   "source": [
    "li_tags[0]"
   ]
  },
  {
   "cell_type": "code",
   "execution_count": 50,
   "id": "250ea4d3-cfbd-48bc-9a22-78ac1c3b269b",
   "metadata": {},
   "outputs": [
    {
     "data": {
      "text/plain": [
       "bs4.element.Tag"
      ]
     },
     "execution_count": 50,
     "metadata": {},
     "output_type": "execute_result"
    }
   ],
   "source": [
    "type(li_tags[0])"
   ]
  },
  {
   "cell_type": "code",
   "execution_count": 52,
   "id": "9799a6f9-cecf-493e-be37-df9792eb31d7",
   "metadata": {},
   "outputs": [
    {
     "data": {
      "text/plain": [
       "str"
      ]
     },
     "execution_count": 52,
     "metadata": {},
     "output_type": "execute_result"
    }
   ],
   "source": [
    "type(li_tags[0].text)"
   ]
  },
  {
   "cell_type": "code",
   "execution_count": 53,
   "id": "e62883ab-19de-4c87-bd9a-9614eb209ff8",
   "metadata": {},
   "outputs": [
    {
     "name": "stdout",
     "output_type": "stream",
     "text": [
      "['커피', '녹차', '우유']\n"
     ]
    }
   ],
   "source": [
    "# 모든 문자열 추출하여 리스트 담기\n",
    "beverage_names = []\n",
    "\n",
    "for li in li_tags:\n",
    "    beverage_names.append(li.text)\n",
    "    \n",
    "print(beverage_names)"
   ]
  },
  {
   "cell_type": "code",
   "execution_count": 54,
   "id": "0109b5b9-461b-49a8-81f5-21cbeafd2b73",
   "metadata": {},
   "outputs": [
    {
     "name": "stdout",
     "output_type": "stream",
     "text": [
      "[<img alt=\"coffee\" src=\"https://i.imgur.com/bY0l0PC.jpg\"/>, <img alt=\"green-tea\" src=\"https://i.imgur.com/fvJLWdV.jpg\"/>, <img alt=\"milk\" src=\"https://i.imgur.com/rNOIbNt.jpg\"/>]\n"
     ]
    }
   ],
   "source": [
    "img_tags = soup.select('img')\n",
    "print(img_tags)"
   ]
  },
  {
   "cell_type": "code",
   "execution_count": 57,
   "id": "b3421bbb-5347-4534-a0ae-0d386538e831",
   "metadata": {},
   "outputs": [
    {
     "data": {
      "text/plain": [
       "'https://i.imgur.com/bY0l0PC.jpg'"
      ]
     },
     "execution_count": 57,
     "metadata": {},
     "output_type": "execute_result"
    }
   ],
   "source": [
    "img_tags[0]['src']"
   ]
  },
  {
   "cell_type": "code",
   "execution_count": 58,
   "id": "82d5d9f9-9d9c-4213-b2f5-9749f04b3a35",
   "metadata": {},
   "outputs": [
    {
     "data": {
      "text/plain": [
       "['https://i.imgur.com/bY0l0PC.jpg',\n",
       " 'https://i.imgur.com/fvJLWdV.jpg',\n",
       " 'https://i.imgur.com/rNOIbNt.jpg']"
      ]
     },
     "execution_count": 58,
     "metadata": {},
     "output_type": "execute_result"
    }
   ],
   "source": [
    "img_srcs = []\n",
    "\n",
    "for img in img_tags:\n",
    "    img_srcs.append(img['src'])\n",
    "    \n",
    "img_srcs"
   ]
  },
  {
   "cell_type": "code",
   "execution_count": 62,
   "id": "a551454d-f6b1-4e6a-b26b-f55ce03f54c0",
   "metadata": {},
   "outputs": [],
   "source": [
    "response = requests.get(\"https://workey.codeit.kr/music/index\")\n",
    "soup = BeautifulSoup(response.text, 'html.parser')\n",
    "li_tags = soup.select('.popular__order li')"
   ]
  },
  {
   "cell_type": "code",
   "execution_count": 64,
   "id": "7cc48de9-fd52-4c8b-879e-f6ec462f36b1",
   "metadata": {},
   "outputs": [
    {
     "data": {
      "text/plain": [
       "['1 아이유 (IU)',\n",
       " '2 방탄소년단',\n",
       " '3 Red Velvet (레드벨벳)',\n",
       " '4 IKON',\n",
       " '5 멜로망스',\n",
       " '6 다비치',\n",
       " '7 윤딴딴',\n",
       " '8 수지 (SUZY)',\n",
       " '9 김동률',\n",
       " '10 폴킴']"
      ]
     },
     "execution_count": 64,
     "metadata": {},
     "output_type": "execute_result"
    }
   ],
   "source": [
    "popular_artists = []\n",
    "\n",
    "for li in li_tags:\n",
    "    popular_artists.append(li.text.strip())\n",
    "    \n",
    "popular_artists"
   ]
  },
  {
   "cell_type": "markdown",
   "id": "13b2a439-884b-4e7c-a3fa-7a88bd8fbef0",
   "metadata": {},
   "source": [
    "***"
   ]
  },
  {
   "cell_type": "code",
   "execution_count": 22,
   "id": "5044b7de-e293-4a0b-8019-8b1dd7810acd",
   "metadata": {},
   "outputs": [],
   "source": [
    "rating_pages = []\n",
    "\n",
    "years = range(2010, 2013)\n",
    "months = range(1, 13)\n",
    "weeks = range(0, 5)\n",
    "\n",
    "for year in years:\n",
    "    for month in months:\n",
    "        for week in weeks:\n",
    "            url = f'https://workey.codeit.kr/ratings/index?year={year}&month={month}&weekIndex={week}'\n",
    "            # url은 단순 문자열로 페이지 받는다\n",
    "            response = requests.get(url) # url변수의 문자열(주소)를 받음\n",
    "            rating_pages.append(response.text)"
   ]
  },
  {
   "cell_type": "code",
   "execution_count": 23,
   "id": "f78385f7-2e21-44aa-86a6-922ecf622c6c",
   "metadata": {},
   "outputs": [
    {
     "data": {
      "text/plain": [
       "180"
      ]
     },
     "execution_count": 23,
     "metadata": {},
     "output_type": "execute_result"
    }
   ],
   "source": [
    "len(rating_pages)"
   ]
  },
  {
   "cell_type": "code",
   "execution_count": 66,
   "id": "0b7e5398-5e71-4466-8db6-c4c4796bb215",
   "metadata": {},
   "outputs": [],
   "source": [
    "# print(rating_pages[0])"
   ]
  },
  {
   "cell_type": "markdown",
   "id": "c7b6609d-1bd2-4bf2-8c1f-cac935e375c7",
   "metadata": {},
   "source": [
    "***"
   ]
  },
  {
   "cell_type": "code",
   "execution_count": 67,
   "id": "daa1c7f2-2fab-4358-b8f8-6dc144f4c88c",
   "metadata": {},
   "outputs": [
    {
     "name": "stdout",
     "output_type": "stream",
     "text": [
      "1번째 페이지 가져오기 완료\n",
      "2번째 페이지 가져오기 완료\n",
      "3번째 페이지 가져오기 완료\n",
      "4번째 페이지 가져오기 완료\n",
      "5번째 페이지 가져오기 완료\n",
      "6번째 페이지 가져오기 완료\n",
      "7번째 페이지 가져오기 완료\n",
      "8번째 페이지 가져오기 완료\n",
      "9번째 페이지 가져오기 완료\n",
      "10번째 페이지 가져오기 완료\n",
      "11번째 페이지 가져오기 완료\n",
      "12번째 페이지 가져오기 완료\n",
      "13번째 페이지 가져오기 완료\n",
      "14번째 페이지 가져오기 완료\n",
      "15번째 페이지 가져오기 완료\n",
      "16번째 페이지 가져오기 완료\n",
      "17번째 페이지 가져오기 완료\n",
      "18번째 페이지 가져오기 완료\n",
      "19번째 페이지 가져오기 완료\n",
      "20번째 페이지 가져오기 완료\n",
      "21번째 페이지 가져오기 완료\n",
      "22번째 페이지 가져오기 완료\n",
      "23번째 페이지 가져오기 완료\n",
      "24번째 페이지 가져오기 완료\n",
      "25번째 페이지 가져오기 완료\n",
      "26번째 페이지 가져오기 완료\n",
      "27번째 페이지 가져오기 완료\n",
      "28번째 페이지 가져오기 완료\n",
      "29번째 페이지 가져오기 완료\n",
      "30번째 페이지 가져오기 완료\n",
      "31번째 페이지 가져오기 완료\n",
      "32번째 페이지 가져오기 완료\n",
      "33번째 페이지 가져오기 완료\n",
      "34번째 페이지 가져오기 완료\n",
      "35번째 페이지 가져오기 완료\n",
      "36번째 페이지 가져오기 완료\n",
      "37번째 페이지 가져오기 완료\n",
      "38번째 페이지 가져오기 완료\n",
      "39번째 페이지 가져오기 완료\n",
      "40번째 페이지 가져오기 완료\n",
      "41번째 페이지 가져오기 완료\n",
      "42번째 페이지 가져오기 완료\n",
      "43번째 페이지 가져오기 완료\n",
      "44번째 페이지 가져오기 완료\n",
      "45번째 페이지 가져오기 완료\n",
      "46번째 페이지 가져오기 완료\n",
      "47번째 페이지 가져오기 완료\n",
      "48번째 페이지 가져오기 완료\n",
      "49번째 페이지 가져오기 완료\n",
      "50번째 페이지 가져오기 완료\n",
      "51번째 페이지 가져오기 완료\n",
      "52번째 페이지 가져오기 완료\n",
      "53번째 페이지 가져오기 완료\n",
      "54번째 페이지 가져오기 완료\n",
      "55번째 페이지 가져오기 완료\n",
      "56번째 페이지 가져오기 완료\n",
      "57번째 페이지 가져오기 완료\n",
      "58번째 페이지 가져오기 완료\n",
      "59번째 페이지 가져오기 완료\n",
      "60번째 페이지 가져오기 완료\n",
      "61번째 페이지 가져오기 완료\n",
      "62번째 페이지 가져오기 완료\n"
     ]
    },
    {
     "ename": "KeyboardInterrupt",
     "evalue": "",
     "output_type": "error",
     "traceback": [
      "\u001b[1;31m---------------------------------------------------------------------------\u001b[0m",
      "\u001b[1;31mKeyboardInterrupt\u001b[0m                         Traceback (most recent call last)",
      "\u001b[1;32m~\\AppData\\Local\\Temp/ipykernel_16664/902393144.py\u001b[0m in \u001b[0;36m<module>\u001b[1;34m\u001b[0m\n\u001b[0;32m     22\u001b[0m         \u001b[0mprint\u001b[0m\u001b[1;33m(\u001b[0m\u001b[0mstr\u001b[0m\u001b[1;33m(\u001b[0m\u001b[0mpage_num\u001b[0m\u001b[1;33m)\u001b[0m \u001b[1;33m+\u001b[0m \u001b[1;34m\"번째 페이지 가져오기 완료\"\u001b[0m\u001b[1;33m)\u001b[0m\u001b[1;33m\u001b[0m\u001b[1;33m\u001b[0m\u001b[0m\n\u001b[0;32m     23\u001b[0m         \u001b[0mpage_num\u001b[0m \u001b[1;33m+=\u001b[0m \u001b[1;36m1\u001b[0m\u001b[1;33m\u001b[0m\u001b[1;33m\u001b[0m\u001b[0m\n\u001b[1;32m---> 24\u001b[1;33m         \u001b[0mtime\u001b[0m\u001b[1;33m.\u001b[0m\u001b[0msleep\u001b[0m\u001b[1;33m(\u001b[0m\u001b[1;36m2\u001b[0m\u001b[1;33m)\u001b[0m\u001b[1;33m\u001b[0m\u001b[1;33m\u001b[0m\u001b[0m\n\u001b[0m\u001b[0;32m     25\u001b[0m     \u001b[1;32melse\u001b[0m\u001b[1;33m:\u001b[0m\u001b[1;33m\u001b[0m\u001b[1;33m\u001b[0m\u001b[0m\n\u001b[0;32m     26\u001b[0m         \u001b[1;32mbreak\u001b[0m \u001b[1;31m# \".csrch_tip\" 클래스가 나오면 break\u001b[0m\u001b[1;33m\u001b[0m\u001b[1;33m\u001b[0m\u001b[0m\n",
      "\u001b[1;31mKeyboardInterrupt\u001b[0m: "
     ]
    }
   ],
   "source": [
    "# 빈 리스트 생성\n",
    "pages = []\n",
    "\n",
    "# 첫 페이지 번호 지정\n",
    "page_num = 1\n",
    "\n",
    "# headers 지정\n",
    "headers = {\n",
    "    'user-agent': 'Mozilla/5.0 (Macintosh; Intel Mac OS X 11_2_3) AppleWebKit/537.36 (KHTML, like Gecko) Chrome/89.0.4389.114 Safari/537.36',\n",
    "}\n",
    "\n",
    "while True:\n",
    "    # HTML 코드 받아오기, 위에서 지정해 준 headers 설정해 주기\n",
    "    response = requests.get(\"http://www.ssg.com/search.ssg?target=all&query=nintendo&page=\" + str(page_num), headers=headers)\n",
    "\n",
    "    # BeautifulSoup 타입으로 변환하기\n",
    "    soup = BeautifulSoup(response.text, 'html.parser')\n",
    "\n",
    "    # \".csrch_tip\" 클래스가 없을 때만 HTML 코드를 리스트에 담기\n",
    "    if len(soup.select('.csrch_tip')) == 0:\n",
    "        pages.append(soup)\n",
    "        print(str(page_num) + \"번째 페이지 가져오기 완료\")\n",
    "        page_num += 1\n",
    "        time.sleep(2)\n",
    "    else:\n",
    "        break # \".csrch_tip\" 클래스가 나오면 break\n",
    "\n",
    "# 가져온 페이지 개수 출력하기\n",
    "print(len(pages))\n"
   ]
  },
  {
   "cell_type": "code",
   "execution_count": 73,
   "id": "0e0b06a2-36f8-4a05-95c0-8971b5669f0f",
   "metadata": {},
   "outputs": [
    {
     "data": {
      "text/plain": [
       "62"
      ]
     },
     "execution_count": 73,
     "metadata": {},
     "output_type": "execute_result"
    }
   ],
   "source": [
    "# pages[0]\n",
    "len(pages)"
   ]
  },
  {
   "cell_type": "code",
   "execution_count": 78,
   "id": "87e110db-6547-4800-860e-ca62fa04a2a6",
   "metadata": {},
   "outputs": [
    {
     "name": "stdout",
     "output_type": "stream",
     "text": [
      "1번째 페이지 가져오기 완료\n",
      "2번째 페이지 가져오기 완료\n",
      "3번째 페이지 가져오기 완료\n",
      "4번째 페이지 가져오기 완료\n",
      "                                       이름       가격  \\\n",
      "0  [닌텐도 스위치] 젤다의 전설 스카이워드 소드 에디션 조이콘(L/R)   80,800   \n",
      "1                        닌텐도스위치 링 피트 어드벤처   74,800   \n",
      "2                   닌텐도 스위치 슈퍼 마리오 파티 한글판   56,400   \n",
      "3                      [닌텐도 스위치] 슈퍼마리오 파티   56,411   \n",
      "4          닌텐도 스위치 본체 동물의숲 산리오 아미보 패키지 선택  350,000   \n",
      "\n",
      "                                              이미지 주소  \n",
      "0  https://www.ssg.com//item.ssgcdn.com/34/91/65/...  \n",
      "1  https://www.ssg.com//item.ssgcdn.com/34/91/65/...  \n",
      "2  https://www.ssg.com//item.ssgcdn.com/61/28/61/...  \n",
      "3  https://www.ssg.com//item.ssgcdn.com/61/28/61/...  \n",
      "4  https://www.ssg.com//item.ssgcdn.com/26/62/51/...  \n"
     ]
    }
   ],
   "source": [
    "# 데이터 프레임 설계 [이름,가격,이미지주소]\n",
    "import time\n",
    "import pandas as pd\n",
    "import requests\n",
    "from bs4 import BeautifulSoup\n",
    "\n",
    "# 빈 리스트 생성\n",
    "records = []\n",
    "\n",
    "# 시작 페이지 지정\n",
    "page_num = 1\n",
    "\n",
    "headers = {\n",
    "    'user-agent': 'Mozilla/5.0 (Macintosh; Intel Mac OS X 11_2_3) AppleWebKit/537.36 (KHTML, like Gecko) Chrome/89.0.4389.114 Safari/537.36',\n",
    "}\n",
    "\n",
    "\n",
    "while True:\n",
    "    # HTML 코드 받아오기\n",
    "    response = requests.get(\"http://www.ssg.com/search.ssg?target=all&query=nintendo&page=\" + str(page_num),headers = headers)\n",
    "\n",
    "    # BeautifulSoup 타입으로 변형하기\n",
    "    soup = BeautifulSoup(response.text, 'html.parser')\n",
    "\n",
    "    # \"prodName\" 클래스가 있을 때만 상품 정보 가져오기\n",
    "    if len(soup.select('.csrch_tip')) == 0:\n",
    "        product_names = soup.select('.cunit_info > div.cunit_md.notranslate > div > a > em.tx_ko')\n",
    "        product_prices = soup.select('.cunit_info > div.cunit_price.notranslate > div.opt_price > em')\n",
    "        product_urls = soup.select('.cunit_prod > div.thmb > a > img')\n",
    "        print(str(page_num) + \"번째 페이지 가져오기 완료\")\n",
    "        page_num += 1\n",
    "        if page_num == 5:\n",
    "            break\n",
    "        time.sleep(3)\n",
    "        \n",
    "        # 상품의 정보를 하나의 레코드로 만들고, 리스트에 순서대로 추가하기\n",
    "        for i in range(len(product_names)):\n",
    "            record = []\n",
    "            record.append(product_names[i].text)\n",
    "            record.append(product_prices[i].text.strip())\n",
    "            record.append(\"https://www.ssg.com\" + product_urls[i].get('src'))\n",
    "            records.append(record)\n",
    "    else:\n",
    "        break\n",
    "        \n",
    "\n",
    "# DataFrame 만들기\n",
    "df = pd.DataFrame(data = records, columns = [\"이름\", \"가격\", \"이미지 주소\"])\n",
    "\n",
    "# DataFrame 출력\n",
    "print(df.head())\n"
   ]
  },
  {
   "cell_type": "code",
   "execution_count": 83,
   "id": "9c6fc027-9391-4a38-8ada-05a80f5f5b1e",
   "metadata": {},
   "outputs": [
    {
     "data": {
      "text/html": [
       "<div>\n",
       "<style scoped>\n",
       "    .dataframe tbody tr th:only-of-type {\n",
       "        vertical-align: middle;\n",
       "    }\n",
       "\n",
       "    .dataframe tbody tr th {\n",
       "        vertical-align: top;\n",
       "    }\n",
       "\n",
       "    .dataframe thead th {\n",
       "        text-align: right;\n",
       "    }\n",
       "</style>\n",
       "<table border=\"1\" class=\"dataframe\">\n",
       "  <thead>\n",
       "    <tr style=\"text-align: right;\">\n",
       "      <th></th>\n",
       "      <th>이름</th>\n",
       "      <th>가격</th>\n",
       "      <th>이미지 주소</th>\n",
       "    </tr>\n",
       "  </thead>\n",
       "  <tbody>\n",
       "    <tr>\n",
       "      <th>0</th>\n",
       "      <td>[닌텐도 스위치] 젤다의 전설 스카이워드 소드 에디션 조이콘(L/R)</td>\n",
       "      <td>80,800</td>\n",
       "      <td>https://www.ssg.com//item.ssgcdn.com/34/91/65/...</td>\n",
       "    </tr>\n",
       "    <tr>\n",
       "      <th>1</th>\n",
       "      <td>닌텐도스위치 링 피트 어드벤처</td>\n",
       "      <td>74,800</td>\n",
       "      <td>https://www.ssg.com//item.ssgcdn.com/34/91/65/...</td>\n",
       "    </tr>\n",
       "    <tr>\n",
       "      <th>2</th>\n",
       "      <td>닌텐도 스위치 슈퍼 마리오 파티 한글판</td>\n",
       "      <td>56,400</td>\n",
       "      <td>https://www.ssg.com//item.ssgcdn.com/61/28/61/...</td>\n",
       "    </tr>\n",
       "    <tr>\n",
       "      <th>3</th>\n",
       "      <td>[닌텐도 스위치] 슈퍼마리오 파티</td>\n",
       "      <td>56,411</td>\n",
       "      <td>https://www.ssg.com//item.ssgcdn.com/61/28/61/...</td>\n",
       "    </tr>\n",
       "    <tr>\n",
       "      <th>4</th>\n",
       "      <td>닌텐도 스위치 본체 동물의숲 산리오 아미보 패키지 선택</td>\n",
       "      <td>350,000</td>\n",
       "      <td>https://www.ssg.com//item.ssgcdn.com/26/62/51/...</td>\n",
       "    </tr>\n",
       "    <tr>\n",
       "      <th>...</th>\n",
       "      <td>...</td>\n",
       "      <td>...</td>\n",
       "      <td>...</td>\n",
       "    </tr>\n",
       "    <tr>\n",
       "      <th>262</th>\n",
       "      <td>닌텐도 스위치 모여봐요 동물의숲 에디션 본체 타이틀 패키지</td>\n",
       "      <td>398,800</td>\n",
       "      <td>https://www.ssg.com//item.ssgcdn.com/95/75/47/...</td>\n",
       "    </tr>\n",
       "    <tr>\n",
       "      <th>263</th>\n",
       "      <td>닌텐도 스위치 이베이스볼 프로야구 스피리츠 2021 그랜드 슬램(외국어)</td>\n",
       "      <td>67,680</td>\n",
       "      <td>https://www.ssg.com//item.ssgcdn.com/19/18/33/...</td>\n",
       "    </tr>\n",
       "    <tr>\n",
       "      <th>264</th>\n",
       "      <td>닌텐도 스위치 본체 배터리개선 (동숲/네온)+링 피트 어드벤처+악세사리 풀세트 [3...</td>\n",
       "      <td>459,295</td>\n",
       "      <td>https://www.ssg.com//item.ssgcdn.com/19/18/33/...</td>\n",
       "    </tr>\n",
       "    <tr>\n",
       "      <th>265</th>\n",
       "      <td>닌텐도 스위치 본체(HAD) 동물의 숲 에디션 (200028243)[howdy]</td>\n",
       "      <td>360,000</td>\n",
       "      <td>https://www.ssg.com//item.ssgcdn.com/49/32/40/...</td>\n",
       "    </tr>\n",
       "    <tr>\n",
       "      <th>266</th>\n",
       "      <td>닌텐도 스위치 젤다의 전설 브레스 오브 더 와일드 한글판</td>\n",
       "      <td>66,740</td>\n",
       "      <td>https://www.ssg.com//item.ssgcdn.com/15/50/98/...</td>\n",
       "    </tr>\n",
       "  </tbody>\n",
       "</table>\n",
       "<p>267 rows × 3 columns</p>\n",
       "</div>"
      ],
      "text/plain": [
       "                                                    이름       가격  \\\n",
       "0               [닌텐도 스위치] 젤다의 전설 스카이워드 소드 에디션 조이콘(L/R)   80,800   \n",
       "1                                     닌텐도스위치 링 피트 어드벤처   74,800   \n",
       "2                                닌텐도 스위치 슈퍼 마리오 파티 한글판   56,400   \n",
       "3                                   [닌텐도 스위치] 슈퍼마리오 파티   56,411   \n",
       "4                       닌텐도 스위치 본체 동물의숲 산리오 아미보 패키지 선택  350,000   \n",
       "..                                                 ...      ...   \n",
       "262                   닌텐도 스위치 모여봐요 동물의숲 에디션 본체 타이틀 패키지  398,800   \n",
       "263           닌텐도 스위치 이베이스볼 프로야구 스피리츠 2021 그랜드 슬램(외국어)   67,680   \n",
       "264  닌텐도 스위치 본체 배터리개선 (동숲/네온)+링 피트 어드벤처+악세사리 풀세트 [3...  459,295   \n",
       "265       닌텐도 스위치 본체(HAD) 동물의 숲 에디션 (200028243)[howdy]  360,000   \n",
       "266                    닌텐도 스위치 젤다의 전설 브레스 오브 더 와일드 한글판   66,740   \n",
       "\n",
       "                                                이미지 주소  \n",
       "0    https://www.ssg.com//item.ssgcdn.com/34/91/65/...  \n",
       "1    https://www.ssg.com//item.ssgcdn.com/34/91/65/...  \n",
       "2    https://www.ssg.com//item.ssgcdn.com/61/28/61/...  \n",
       "3    https://www.ssg.com//item.ssgcdn.com/61/28/61/...  \n",
       "4    https://www.ssg.com//item.ssgcdn.com/26/62/51/...  \n",
       "..                                                 ...  \n",
       "262  https://www.ssg.com//item.ssgcdn.com/95/75/47/...  \n",
       "263  https://www.ssg.com//item.ssgcdn.com/19/18/33/...  \n",
       "264  https://www.ssg.com//item.ssgcdn.com/19/18/33/...  \n",
       "265  https://www.ssg.com//item.ssgcdn.com/49/32/40/...  \n",
       "266  https://www.ssg.com//item.ssgcdn.com/15/50/98/...  \n",
       "\n",
       "[267 rows x 3 columns]"
      ]
     },
     "execution_count": 83,
     "metadata": {},
     "output_type": "execute_result"
    }
   ],
   "source": [
    "df"
   ]
  }
 ],
 "metadata": {
  "kernelspec": {
   "display_name": "Python 3",
   "language": "python",
   "name": "python3"
  },
  "language_info": {
   "codemirror_mode": {
    "name": "ipython",
    "version": 3
   },
   "file_extension": ".py",
   "mimetype": "text/x-python",
   "name": "python",
   "nbconvert_exporter": "python",
   "pygments_lexer": "ipython3",
   "version": "3.8.8"
  }
 },
 "nbformat": 4,
 "nbformat_minor": 5
}
